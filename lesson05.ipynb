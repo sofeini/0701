{
 "cells": [
  {
   "cell_type": "code",
   "execution_count": 1,
   "metadata": {},
   "outputs": [
    {
     "name": "stdout",
     "output_type": "stream",
     "text": [
      "hello world\n"
     ]
    }
   ],
   "source": [
    "print('hello world')"
   ]
  },
  {
   "cell_type": "code",
   "execution_count": 2,
   "metadata": {},
   "outputs": [],
   "source": [
    "a =10\n",
    "b = 5\n",
    "if a > b:\n",
    "    pass\n",
    "elif a == b:\n",
    "    print(\"B\")\n",
    "else:\n",
    "    print('C')\n"
   ]
  },
  {
   "cell_type": "code",
   "execution_count": 2,
   "metadata": {},
   "outputs": [
    {
     "name": "stdout",
     "output_type": "stream",
     "text": [
      "C\n"
     ]
    }
   ],
   "source": [
    "a = 1\n",
    "b = 2\n",
    "c = 3\n",
    "\n",
    "if a>1 and b >2:\n",
    "    print (\"A\")\n",
    "elif a>1 or b>2:\n",
    "    print ('B')\n",
    "else:\n",
    "    print(\"C\") "
   ]
  },
  {
   "cell_type": "code",
   "execution_count": 4,
   "metadata": {},
   "outputs": [
    {
     "name": "stdout",
     "output_type": "stream",
     "text": [
      "1\n",
      "3\n",
      "5\n",
      "7\n",
      "9\n"
     ]
    }
   ],
   "source": [
    "for i in range (1 , 10 , 2):\n",
    "    print (i)"
   ]
  },
  {
   "cell_type": "code",
   "execution_count": 11,
   "metadata": {},
   "outputs": [
    {
     "name": "stdout",
     "output_type": "stream",
     "text": [
      "i = 1\n",
      "j = 1\n",
      "j = 2\n",
      "j = 3\n",
      "j = 4\n",
      "j = 5\n",
      "j = 6\n",
      "j = 7\n",
      "j = 8\n",
      "j = 9\n",
      "===============\n",
      "i = 2\n",
      "j = 1\n",
      "j = 2\n",
      "j = 3\n",
      "j = 4\n",
      "j = 5\n",
      "j = 6\n",
      "j = 7\n",
      "j = 8\n",
      "j = 9\n",
      "===============\n",
      "i = 3\n",
      "j = 1\n",
      "j = 2\n",
      "j = 3\n",
      "j = 4\n",
      "j = 5\n",
      "j = 6\n",
      "j = 7\n",
      "j = 8\n",
      "j = 9\n",
      "===============\n",
      "i = 4\n",
      "j = 1\n",
      "j = 2\n",
      "j = 3\n",
      "j = 4\n",
      "j = 5\n",
      "j = 6\n",
      "j = 7\n",
      "j = 8\n",
      "j = 9\n",
      "===============\n",
      "i = 5\n",
      "j = 1\n",
      "j = 2\n",
      "j = 3\n",
      "j = 4\n",
      "j = 5\n",
      "j = 6\n",
      "j = 7\n",
      "j = 8\n",
      "j = 9\n",
      "===============\n",
      "i = 6\n",
      "j = 1\n",
      "j = 2\n",
      "j = 3\n",
      "j = 4\n",
      "j = 5\n",
      "j = 6\n",
      "j = 7\n",
      "j = 8\n",
      "j = 9\n",
      "===============\n",
      "i = 7\n",
      "j = 1\n",
      "j = 2\n",
      "j = 3\n",
      "j = 4\n",
      "j = 5\n",
      "j = 6\n",
      "j = 7\n",
      "j = 8\n",
      "j = 9\n",
      "===============\n",
      "i = 8\n",
      "j = 1\n",
      "j = 2\n",
      "j = 3\n",
      "j = 4\n",
      "j = 5\n",
      "j = 6\n",
      "j = 7\n",
      "j = 8\n",
      "j = 9\n",
      "===============\n",
      "i = 9\n",
      "j = 1\n",
      "j = 2\n",
      "j = 3\n",
      "j = 4\n",
      "j = 5\n",
      "j = 6\n",
      "j = 7\n",
      "j = 8\n",
      "j = 9\n",
      "===============\n"
     ]
    }
   ],
   "source": [
    "#槽狀迴圈\n",
    "for i in range (1,10):\n",
    "    print (f\"i = {i}\")\n",
    "    for j in range (1 ,10):\n",
    "        print (f\"j = {j}\")\n",
    "    print('===============')"
   ]
  },
  {
   "cell_type": "code",
   "execution_count": 16,
   "metadata": {},
   "outputs": [
    {
     "name": "stdout",
     "output_type": "stream",
     "text": [
      "i = 1\n",
      "j = 1 j = 2 j = 3 j = 4 j = 5 j = 6 j = 7 j = 8 j = 9 \n",
      "===============\n",
      "i = 2\n",
      "j = 1 j = 2 j = 3 j = 4 j = 5 j = 6 j = 7 j = 8 j = 9 \n",
      "===============\n",
      "i = 3\n",
      "j = 1 j = 2 j = 3 j = 4 j = 5 j = 6 j = 7 j = 8 j = 9 \n",
      "===============\n",
      "i = 4\n",
      "j = 1 j = 2 j = 3 j = 4 j = 5 j = 6 j = 7 j = 8 j = 9 \n",
      "===============\n",
      "i = 5\n",
      "j = 1 j = 2 j = 3 j = 4 j = 5 j = 6 j = 7 j = 8 j = 9 \n",
      "===============\n",
      "i = 6\n",
      "j = 1 j = 2 j = 3 j = 4 j = 5 j = 6 j = 7 j = 8 j = 9 \n",
      "===============\n",
      "i = 7\n",
      "j = 1 j = 2 j = 3 j = 4 j = 5 j = 6 j = 7 j = 8 j = 9 \n",
      "===============\n",
      "i = 8\n",
      "j = 1 j = 2 j = 3 j = 4 j = 5 j = 6 j = 7 j = 8 j = 9 \n",
      "===============\n",
      "i = 9\n",
      "j = 1 j = 2 j = 3 j = 4 j = 5 j = 6 j = 7 j = 8 j = 9 \n",
      "===============\n"
     ]
    }
   ],
   "source": [
    "#槽狀迴圈，希望j不要換行、在換行線換行\n",
    "for i in range (1,10):\n",
    "    print (f\"i = {i}\")\n",
    "    for j in range (1 ,10):\n",
    "        print (f\"j = {j}\" , end=' ')\n",
    "    print('\\n===============')"
   ]
  },
  {
   "cell_type": "code",
   "execution_count": 26,
   "metadata": {},
   "outputs": [
    {
     "name": "stdout",
     "output_type": "stream",
     "text": [
      "i = 1\n",
      "1 2 3 4 5 6 7 8 9 \n",
      "\n",
      "i = 2\n",
      "2 4 6 8 10 12 14 16 18 \n",
      "\n",
      "i = 3\n",
      "3 6 9 12 15 18 21 24 27 \n",
      "\n",
      "i = 4\n",
      "4 8 12 16 20 24 28 32 36 \n",
      "\n",
      "i = 5\n",
      "5 10 15 20 25 30 35 40 45 \n",
      "\n",
      "i = 6\n",
      "6 12 18 24 30 36 42 48 54 \n",
      "\n",
      "i = 7\n",
      "7 14 21 28 35 42 49 56 63 \n",
      "\n",
      "i = 8\n",
      "8 16 24 32 40 48 56 64 72 \n",
      "\n",
      "i = 9\n",
      "9 18 27 36 45 54 63 72 81 \n",
      "\n"
     ]
    }
   ],
   "source": [
    "for i in range (1 , 10 , 1):\n",
    "    print(f\"i = {i}\")\n",
    "    for j in range (1 , 10 , 1):\n",
    "        print(i*j , end =\" \")\n",
    "    print('\\n')"
   ]
  },
  {
   "cell_type": "code",
   "execution_count": 30,
   "metadata": {},
   "outputs": [
    {
     "name": "stdout",
     "output_type": "stream",
     "text": [
      "存了2個月，總金額:41000元\n"
     ]
    }
   ],
   "source": [
    "# while 迴圈 (容易造成無限迴圈，要小心寫)\n",
    "deposit = 0\n",
    "month = 0\n",
    "while (deposit < 30000):\n",
    "    month = month + 1\n",
    "    value = int(input(f\"請輸入第{month}個月的存款金額:\"))\n",
    "    deposit = deposit + value\n",
    "    # 或者寫成 deposit += value\n",
    "print(f\"存了{month}個月，總金額:{deposit}元\")\n"
   ]
  }
 ],
 "metadata": {
  "kernelspec": {
   "display_name": "Python 3",
   "language": "python",
   "name": "python3"
  },
  "language_info": {
   "codemirror_mode": {
    "name": "ipython",
    "version": 3
   },
   "file_extension": ".py",
   "mimetype": "text/x-python",
   "name": "python",
   "nbconvert_exporter": "python",
   "pygments_lexer": "ipython3",
   "version": "3.10.12"
  },
  "orig_nbformat": 4
 },
 "nbformat": 4,
 "nbformat_minor": 2
}
