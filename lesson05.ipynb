{
 "cells": [
  {
   "cell_type": "code",
   "execution_count": 1,
   "metadata": {},
   "outputs": [
    {
     "name": "stdout",
     "output_type": "stream",
     "text": [
      "hello world\n"
     ]
    }
   ],
   "source": [
    "print('hello world')"
   ]
  },
  {
   "cell_type": "code",
   "execution_count": 2,
   "metadata": {},
   "outputs": [],
   "source": [
    "a =10\n",
    "b = 5\n",
    "if a > b:\n",
    "    pass\n",
    "elif a == b:\n",
    "    print(\"B\")\n",
    "else:\n",
    "    print('C')\n"
   ]
  },
  {
   "cell_type": "code",
   "execution_count": 2,
   "metadata": {},
   "outputs": [
    {
     "name": "stdout",
     "output_type": "stream",
     "text": [
      "C\n"
     ]
    }
   ],
   "source": [
    "a = 1\n",
    "b = 2\n",
    "c = 3\n",
    "\n",
    "if a>1 and b >2:\n",
    "    print (\"A\")\n",
    "elif a>1 or b>2:\n",
    "    print ('B')\n",
    "else:\n",
    "    print(\"C\") "
   ]
  },
  {
   "cell_type": "code",
   "execution_count": 4,
   "metadata": {},
   "outputs": [
    {
     "name": "stdout",
     "output_type": "stream",
     "text": [
      "1\n",
      "3\n",
      "5\n",
      "7\n",
      "9\n"
     ]
    }
   ],
   "source": [
    "for i in range (1 , 10 , 2):\n",
    "    print (i)"
   ]
  },
  {
   "cell_type": "code",
   "execution_count": 11,
   "metadata": {},
   "outputs": [
    {
     "name": "stdout",
     "output_type": "stream",
     "text": [
      "i = 1\n",
      "j = 1\n",
      "j = 2\n",
      "j = 3\n",
      "j = 4\n",
      "j = 5\n",
      "j = 6\n",
      "j = 7\n",
      "j = 8\n",
      "j = 9\n",
      "===============\n",
      "i = 2\n",
      "j = 1\n",
      "j = 2\n",
      "j = 3\n",
      "j = 4\n",
      "j = 5\n",
      "j = 6\n",
      "j = 7\n",
      "j = 8\n",
      "j = 9\n",
      "===============\n",
      "i = 3\n",
      "j = 1\n",
      "j = 2\n",
      "j = 3\n",
      "j = 4\n",
      "j = 5\n",
      "j = 6\n",
      "j = 7\n",
      "j = 8\n",
      "j = 9\n",
      "===============\n",
      "i = 4\n",
      "j = 1\n",
      "j = 2\n",
      "j = 3\n",
      "j = 4\n",
      "j = 5\n",
      "j = 6\n",
      "j = 7\n",
      "j = 8\n",
      "j = 9\n",
      "===============\n",
      "i = 5\n",
      "j = 1\n",
      "j = 2\n",
      "j = 3\n",
      "j = 4\n",
      "j = 5\n",
      "j = 6\n",
      "j = 7\n",
      "j = 8\n",
      "j = 9\n",
      "===============\n",
      "i = 6\n",
      "j = 1\n",
      "j = 2\n",
      "j = 3\n",
      "j = 4\n",
      "j = 5\n",
      "j = 6\n",
      "j = 7\n",
      "j = 8\n",
      "j = 9\n",
      "===============\n",
      "i = 7\n",
      "j = 1\n",
      "j = 2\n",
      "j = 3\n",
      "j = 4\n",
      "j = 5\n",
      "j = 6\n",
      "j = 7\n",
      "j = 8\n",
      "j = 9\n",
      "===============\n",
      "i = 8\n",
      "j = 1\n",
      "j = 2\n",
      "j = 3\n",
      "j = 4\n",
      "j = 5\n",
      "j = 6\n",
      "j = 7\n",
      "j = 8\n",
      "j = 9\n",
      "===============\n",
      "i = 9\n",
      "j = 1\n",
      "j = 2\n",
      "j = 3\n",
      "j = 4\n",
      "j = 5\n",
      "j = 6\n",
      "j = 7\n",
      "j = 8\n",
      "j = 9\n",
      "===============\n"
     ]
    }
   ],
   "source": [
    "#槽狀迴圈\n",
    "for i in range (1,10):\n",
    "    print (f\"i = {i}\")\n",
    "    for j in range (1 ,10):\n",
    "        print (f\"j = {j}\")\n",
    "    print('===============')"
   ]
  },
  {
   "cell_type": "code",
   "execution_count": 16,
   "metadata": {},
   "outputs": [
    {
     "name": "stdout",
     "output_type": "stream",
     "text": [
      "i = 1\n",
      "j = 1 j = 2 j = 3 j = 4 j = 5 j = 6 j = 7 j = 8 j = 9 \n",
      "===============\n",
      "i = 2\n",
      "j = 1 j = 2 j = 3 j = 4 j = 5 j = 6 j = 7 j = 8 j = 9 \n",
      "===============\n",
      "i = 3\n",
      "j = 1 j = 2 j = 3 j = 4 j = 5 j = 6 j = 7 j = 8 j = 9 \n",
      "===============\n",
      "i = 4\n",
      "j = 1 j = 2 j = 3 j = 4 j = 5 j = 6 j = 7 j = 8 j = 9 \n",
      "===============\n",
      "i = 5\n",
      "j = 1 j = 2 j = 3 j = 4 j = 5 j = 6 j = 7 j = 8 j = 9 \n",
      "===============\n",
      "i = 6\n",
      "j = 1 j = 2 j = 3 j = 4 j = 5 j = 6 j = 7 j = 8 j = 9 \n",
      "===============\n",
      "i = 7\n",
      "j = 1 j = 2 j = 3 j = 4 j = 5 j = 6 j = 7 j = 8 j = 9 \n",
      "===============\n",
      "i = 8\n",
      "j = 1 j = 2 j = 3 j = 4 j = 5 j = 6 j = 7 j = 8 j = 9 \n",
      "===============\n",
      "i = 9\n",
      "j = 1 j = 2 j = 3 j = 4 j = 5 j = 6 j = 7 j = 8 j = 9 \n",
      "===============\n"
     ]
    }
   ],
   "source": [
    "#槽狀迴圈，希望j不要換行、在換行線換行\n",
    "for i in range (1,10):\n",
    "    print (f\"i = {i}\")\n",
    "    for j in range (1 ,10):\n",
    "        print (f\"j = {j}\" , end=' ')\n",
    "    print('\\n===============')"
   ]
  },
  {
   "cell_type": "code",
   "execution_count": 26,
   "metadata": {},
   "outputs": [
    {
     "name": "stdout",
     "output_type": "stream",
     "text": [
      "i = 1\n",
      "1 2 3 4 5 6 7 8 9 \n",
      "\n",
      "i = 2\n",
      "2 4 6 8 10 12 14 16 18 \n",
      "\n",
      "i = 3\n",
      "3 6 9 12 15 18 21 24 27 \n",
      "\n",
      "i = 4\n",
      "4 8 12 16 20 24 28 32 36 \n",
      "\n",
      "i = 5\n",
      "5 10 15 20 25 30 35 40 45 \n",
      "\n",
      "i = 6\n",
      "6 12 18 24 30 36 42 48 54 \n",
      "\n",
      "i = 7\n",
      "7 14 21 28 35 42 49 56 63 \n",
      "\n",
      "i = 8\n",
      "8 16 24 32 40 48 56 64 72 \n",
      "\n",
      "i = 9\n",
      "9 18 27 36 45 54 63 72 81 \n",
      "\n"
     ]
    }
   ],
   "source": [
    "for i in range (1 , 10 , 1):\n",
    "    print(f\"i = {i}\")\n",
    "    for j in range (1 , 10 , 1):\n",
    "        print(i*j , end =\" \")\n",
    "    print('\\n')"
   ]
  },
  {
   "cell_type": "code",
   "execution_count": 30,
   "metadata": {},
   "outputs": [
    {
     "name": "stdout",
     "output_type": "stream",
     "text": [
      "存了2個月，總金額:41000元\n"
     ]
    }
   ],
   "source": [
    "# while 迴圈 (容易造成無限迴圈，要小心寫)\n",
    "deposit = 0\n",
    "month = 0\n",
    "while (deposit < 30000):\n",
    "    month = month + 1\n",
    "    value = int(input(f\"請輸入第{month}個月的存款金額:\"))\n",
    "    deposit = deposit + value\n",
    "    # 或者寫成 deposit += value\n",
    "print(f\"存了{month}個月，總金額:{deposit}元\")\n"
   ]
  },
  {
   "cell_type": "code",
   "execution_count": 6,
   "metadata": {},
   "outputs": [
    {
     "name": "stdout",
     "output_type": "stream",
     "text": [
      "一共輸入1個值，所有輸入正偶數的加總值是0\n"
     ]
    }
   ],
   "source": [
    "# break & continue\n",
    "sum = 0\n",
    "num = 0\n",
    "while True:\n",
    "    num += 1\n",
    "    input_value = int(input(f\"請輸入第{num}個數值:\"))\n",
    "    if input_value < 0:\n",
    "        break\n",
    "    elif input_value % 2 == 1:\n",
    "        continue\n",
    "    else:\n",
    "        sum += input_value\n",
    "print(f\"一共輸入{num}個值，所有輸入正偶數的加總值是{sum}\") \n"
   ]
  },
  {
   "cell_type": "code",
   "execution_count": 8,
   "metadata": {},
   "outputs": [
    {
     "name": "stdout",
     "output_type": "stream",
     "text": [
      "0\n"
     ]
    }
   ],
   "source": [
    "sum = 0\n",
    "while True:\n",
    "    input_value = int(input())\n",
    "    if input_value < 0:\n",
    "        break\n",
    "    elif input_value % 2 == 1:\n",
    "        continue\n",
    "    else: sum += input_value\n",
    "\n",
    "print(sum)"
   ]
  },
  {
   "cell_type": "code",
   "execution_count": 14,
   "metadata": {},
   "outputs": [
    {
     "name": "stdout",
     "output_type": "stream",
     "text": [
      "2\n",
      "24\n"
     ]
    }
   ],
   "source": [
    "# 生成偽隨機數random\n",
    "# 使用內建函式要先import\n",
    "import random\n",
    "a = random.randrange(5)\n",
    "b = random.randint(10 , 30)\n",
    "print(a)\n",
    "print(b)"
   ]
  },
  {
   "cell_type": "code",
   "execution_count": 15,
   "metadata": {},
   "outputs": [
    {
     "name": "stdout",
     "output_type": "stream",
     "text": [
      "7\n",
      "已經猜錯1次\n",
      "已經猜錯2次\n",
      "已經猜錯3次\n",
      "已經猜了4次，恭喜猜對答案是7\n",
      "遊戲結束\n"
     ]
    }
   ],
   "source": [
    "import random\n",
    "\n",
    "min = 1\n",
    "max = 10\n",
    "count = 0\n",
    "random_number = random.randint(min , max)\n",
    "print(random_number)\n",
    "\n",
    "while True:\n",
    "    keyin_number = int(input(f\"猜數字範圍{min}~{max}:\"))\n",
    "    count += 1\n",
    "    if (keyin_number == random_number):\n",
    "        print(f\"已經猜了{count}次，恭喜猜對答案是{random_number}\")\n",
    "        break\n",
    "    else: \n",
    "        print(f\"已經猜錯{count}次\") \n",
    "print(\"遊戲結束\") "
   ]
  },
  {
   "cell_type": "code",
   "execution_count": 17,
   "metadata": {},
   "outputs": [
    {
     "name": "stdout",
     "output_type": "stream",
     "text": [
      "7\n",
      "已經猜錯1次，猜大一點\n",
      "已經猜錯1次\n",
      "已經猜錯2次，猜大一點\n",
      "已經猜錯2次\n",
      "已經猜了3次，恭喜猜對答案是7\n",
      "遊戲結束\n"
     ]
    }
   ],
   "source": [
    "import random\n",
    "\n",
    "min = 1\n",
    "max = 10\n",
    "count = 0\n",
    "random_number = random.randint(min , max)\n",
    "print(random_number)\n",
    "\n",
    "while True:\n",
    "    keyin_number = int(input(f\"猜數字範圍{min}~{max}:\"))\n",
    "    count += 1\n",
    "    if (keyin_number == random_number):\n",
    "        print(f\"已經猜了{count}次，恭喜猜對答案是{random_number}\")\n",
    "        break\n",
    "    elif (keyin_number > random_number): \n",
    "        print(f\"已經猜錯{count}次，猜小一點\")\n",
    "        max == keyin_number - 1 \n",
    "    elif (keyin_number < random_number): \n",
    "        print(f\"已經猜錯{count}次，猜大一點\")\n",
    "        min == keyin_number - 1 \n",
    "    print(f\"已經猜錯{count}次\")\n",
    "print(\"遊戲結束\") \n",
    "\n"
   ]
  },
  {
   "cell_type": "code",
   "execution_count": 1,
   "metadata": {},
   "outputs": [
    {
     "name": "stdout",
     "output_type": "stream",
     "text": [
      "7\n",
      "已經猜了1次，恭喜猜對答案是7\n",
      "10\n",
      "已經猜了1次，恭喜猜對答案是10\n",
      "遊戲結束\n"
     ]
    }
   ],
   "source": [
    "import random\n",
    "\n",
    "def game():\n",
    "\n",
    "    min = 1\n",
    "    max = 10\n",
    "    count = 0\n",
    "    random_number = random.randint(min , max)\n",
    "    print(random_number)\n",
    "\n",
    "    while True:\n",
    "        keyin_number = int(input(f\"猜數字範圍{min}~{max}:\"))\n",
    "        count += 1\n",
    "        if (keyin_number == random_number):\n",
    "            print(f\"已經猜了{count}次，恭喜猜對答案是{random_number}\")\n",
    "\n",
    "            break\n",
    "        elif (keyin_number > random_number): \n",
    "            print(f\"已經猜錯{count}次，猜小一點\")\n",
    "            max == keyin_number - 1 \n",
    "        elif (keyin_number < random_number): \n",
    "            print(f\"已經猜錯{count}次，猜大一點\")\n",
    "            min == keyin_number - 1 \n",
    "     \n",
    "        \n",
    "while True:\n",
    "    game()\n",
    "    option = input(\"是否繼續遊戲?\")\n",
    "    if not (option == 'y'):\n",
    "        break\n",
    "print(\"遊戲結束\") \n"
   ]
  },
  {
   "cell_type": "code",
   "execution_count": 25,
   "metadata": {},
   "outputs": [
    {
     "name": "stdout",
     "output_type": "stream",
     "text": [
      "37.5\n",
      "45.0\n",
      "20.0\n"
     ]
    }
   ],
   "source": [
    "# 自訂function\n",
    "\n",
    "def fun1(para1:int, para2:int):\n",
    "    return para1*para2 / 2\n",
    "\n",
    "\n",
    "print(fun1(5, 15))\n",
    "print(fun1(6, 15))\n",
    "print(fun1(4 ,10))\n",
    "    \n",
    "\n"
   ]
  },
  {
   "cell_type": "code",
   "execution_count": 12,
   "metadata": {},
   "outputs": [
    {
     "name": "stdout",
     "output_type": "stream",
     "text": [
      "404 error\n",
      "78\n",
      "98\n",
      "56\n",
      "74\n",
      "79\n"
     ]
    },
    {
     "data": {
      "text/plain": [
       "56"
      ]
     },
     "execution_count": 12,
     "metadata": {},
     "output_type": "execute_result"
    }
   ],
   "source": [
    "\"\"\"tuple: 可以放入不同型別物件的集合，\n",
    "每個物件不一定要有關聯\n",
    "不可以編輯裡面的元素\"\"\"\n",
    "\n",
    "def get_tuple():\n",
    "    return(404, \"error\")\n",
    "\n",
    "(code , message) = get_tuple()\n",
    "print(code, message)\n",
    "\n",
    "\"\"\"list:要放相同型別的物件，\n",
    "可以編輯裡面的元素\"\"\"\n",
    "\n",
    "list1 = [78, 98, 56 ,74, 79]\n",
    "list2 = []\n",
    "\n",
    "\n",
    "for a in list1:\n",
    "    print(a)\n",
    "     \n",
    "list1[2]"
   ]
  },
  {
   "cell_type": "code",
   "execution_count": 16,
   "metadata": {},
   "outputs": [
    {
     "name": "stdout",
     "output_type": "stream",
     "text": [
      "[78, 98, 56, 74, 79, 'added']\n"
     ]
    }
   ],
   "source": [
    "#實體名稱.實體方法\n",
    "list1.append(\"added\")\n",
    "print(list1)"
   ]
  },
  {
   "cell_type": "code",
   "execution_count": 22,
   "metadata": {},
   "outputs": [
    {
     "name": "stdout",
     "output_type": "stream",
     "text": [
      "<class 'str'>\n",
      "<class 'list'>\n"
     ]
    },
    {
     "data": {
      "text/plain": [
       "['h', 'e', 'l', 'l', 'o']"
      ]
     },
     "execution_count": 22,
     "metadata": {},
     "output_type": "execute_result"
    }
   ],
   "source": [
    "word = 'helloworld'\n",
    "print(type(word))\n",
    "word2 =  list('helloworld')\n",
    "print(type(word2))\n",
    "word2[0:5]\n",
    "word2[-5:-1]\n",
    "word2[-5:] #抓後面5個元素，常用\n",
    "word2[:5] #抓前面5個元素，常用"
   ]
  },
  {
   "cell_type": "code",
   "execution_count": 28,
   "metadata": {},
   "outputs": [
    {
     "name": "stdout",
     "output_type": "stream",
     "text": [
      "[['a1', 'a2', 'a3'], ['b1', 'b2'], ['c1', 'c2', 'c3', 'c4']]\n"
     ]
    },
    {
     "data": {
      "text/plain": [
       "'b1'"
      ]
     },
     "execution_count": 28,
     "metadata": {},
     "output_type": "execute_result"
    }
   ],
   "source": [
    "a =['a1' , 'a2' ,'a3']\n",
    "b =['b1' ,'b2']\n",
    "c = ['c1', 'c2' , 'c3' , 'c4']\n",
    "all = [a , b , c]\n",
    "print(all)\n",
    "all[1][0]"
   ]
  },
  {
   "cell_type": "code",
   "execution_count": 29,
   "metadata": {},
   "outputs": [
    {
     "data": {
      "text/plain": [
       "44"
      ]
     },
     "execution_count": 29,
     "metadata": {},
     "output_type": "execute_result"
    }
   ],
   "source": [
    "import random\n",
    "random.randint(1, 50)"
   ]
  },
  {
   "cell_type": "code",
   "execution_count": 39,
   "metadata": {},
   "outputs": [
    {
     "data": {
      "text/plain": [
       "[[84, 70, 55, 65, 62],\n",
       " [75, 65, 99, 85, 59],\n",
       " [55, 55, 87, 93, 74],\n",
       " [60, 72, 84, 81, 76],\n",
       " [69, 95, 79, 63, 96],\n",
       " [61, 96, 59, 75, 62],\n",
       " [78, 71, 74, 73, 55],\n",
       " [62, 55, 69, 58, 97],\n",
       " [80, 81, 83, 81, 77],\n",
       " [84, 85, 82, 59, 59],\n",
       " [83, 66, 82, 91, 59],\n",
       " [81, 74, 79, 99, 79],\n",
       " [91, 70, 72, 76, 61],\n",
       " [92, 66, 92, 77, 84],\n",
       " [100, 80, 79, 86, 51],\n",
       " [53, 56, 100, 77, 78],\n",
       " [51, 68, 73, 97, 55],\n",
       " [80, 100, 83, 68, 85],\n",
       " [85, 74, 90, 85, 76],\n",
       " [87, 72, 83, 69, 81],\n",
       " [79, 56, 100, 75, 93],\n",
       " [86, 77, 86, 90, 63],\n",
       " [75, 58, 92, 79, 60],\n",
       " [54, 69, 89, 54, 69],\n",
       " [97, 90, 70, 75, 95],\n",
       " [83, 68, 95, 95, 60],\n",
       " [94, 54, 86, 55, 80],\n",
       " [51, 76, 94, 59, 84],\n",
       " [78, 70, 96, 59, 96],\n",
       " [82, 67, 84, 56, 80],\n",
       " [82, 81, 53, 95, 55],\n",
       " [51, 59, 99, 95, 93],\n",
       " [87, 78, 80, 54, 50],\n",
       " [72, 64, 75, 80, 93],\n",
       " [80, 50, 53, 61, 58],\n",
       " [97, 89, 57, 100, 87],\n",
       " [81, 96, 85, 84, 98],\n",
       " [87, 68, 61, 93, 98],\n",
       " [56, 69, 60, 95, 83],\n",
       " [56, 94, 56, 61, 87],\n",
       " [50, 79, 64, 76, 73],\n",
       " [93, 99, 87, 95, 73],\n",
       " [50, 80, 61, 64, 82],\n",
       " [62, 56, 54, 54, 85],\n",
       " [67, 82, 91, 63, 73],\n",
       " [52, 59, 70, 82, 68],\n",
       " [82, 84, 96, 94, 59],\n",
       " [89, 55, 63, 68, 90],\n",
       " [86, 50, 98, 65, 84],\n",
       " [69, 82, 72, 87, 55]]"
      ]
     },
     "execution_count": 39,
     "metadata": {},
     "output_type": "execute_result"
    }
   ],
   "source": [
    "# 建立50組，每一組有5個隨機的數值\n",
    "students =[]\n",
    "\n",
    "for a in range (50):\n",
    "    list1 = list()\n",
    "    for i in range (5): # i沒有用到，所以也可以改成under line \n",
    "        list1.append(random.randint(50 , 100))\n",
    "    students.append(list1)\n",
    "students"
   ]
  },
  {
   "cell_type": "code",
   "execution_count": null,
   "metadata": {},
   "outputs": [],
   "source": [
    "# 存檔\n",
    "open('hello.txt' , )"
   ]
  }
 ],
 "metadata": {
  "kernelspec": {
   "display_name": "Python 3",
   "language": "python",
   "name": "python3"
  },
  "language_info": {
   "codemirror_mode": {
    "name": "ipython",
    "version": 3
   },
   "file_extension": ".py",
   "mimetype": "text/x-python",
   "name": "python",
   "nbconvert_exporter": "python",
   "pygments_lexer": "ipython3",
   "version": "3.10.12"
  },
  "orig_nbformat": 4
 },
 "nbformat": 4,
 "nbformat_minor": 2
}
