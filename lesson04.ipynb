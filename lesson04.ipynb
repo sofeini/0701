{
 "cells": [
  {
   "cell_type": "code",
   "execution_count": 1,
   "metadata": {},
   "outputs": [
    {
     "name": "stdout",
     "output_type": "stream",
     "text": [
      "hello world\n"
     ]
    }
   ],
   "source": [
    "print('hello world')"
   ]
  },
  {
   "cell_type": "code",
   "execution_count": 1,
   "metadata": {},
   "outputs": [
    {
     "name": "stdout",
     "output_type": "stream",
     "text": [
      "直角三角形的角度為:23.578178478201835\n"
     ]
    }
   ],
   "source": [
    "import math\n",
    "n = float(input('請輸入斜邊:'))\n",
    "m = float(input('請輸入對邊:'))\n",
    "r = math.asin( m / n ) \n",
    "degree = math.degrees(r)\n",
    "print(f'直角三角形的角度為:{degree}') #字串插補\n"
   ]
  },
  {
   "cell_type": "code",
   "execution_count": 6,
   "metadata": {},
   "outputs": [
    {
     "name": "stdout",
     "output_type": "stream",
     "text": [
      "總分是:300\n"
     ]
    }
   ],
   "source": [
    "scores = int(input('請輸入分數:'))\n",
    "is_add = input('是否符合加分條件:')\n",
    "\n",
    "#單向選擇的條件式\n",
    "if is_add == 'Y':\n",
    "   scores = scores +  scores*0.05\n",
    "   if scores >300:\n",
    "      scores = 300\n",
    "\n",
    "print(f\"總分是:{scores}\")"
   ]
  }
 ],
 "metadata": {
  "kernelspec": {
   "display_name": "Python 3",
   "language": "python",
   "name": "python3"
  },
  "language_info": {
   "codemirror_mode": {
    "name": "ipython",
    "version": 3
   },
   "file_extension": ".py",
   "mimetype": "text/x-python",
   "name": "python",
   "nbconvert_exporter": "python",
   "pygments_lexer": "ipython3",
   "version": "3.10.8"
  },
  "orig_nbformat": 4
 },
 "nbformat": 4,
 "nbformat_minor": 2
}
