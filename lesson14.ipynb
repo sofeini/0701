{
 "cells": [
  {
   "cell_type": "code",
   "execution_count": 8,
   "metadata": {},
   "outputs": [
    {
     "data": {
      "text/plain": [
       "學生1     391\n",
       "學生2     380\n",
       "學生3     324\n",
       "學生4     312\n",
       "學生5     303\n",
       "學生6     337\n",
       "學生7     327\n",
       "學生8     365\n",
       "學生9     329\n",
       "學生10    304\n",
       "dtype: int64"
      ]
     },
     "metadata": {},
     "output_type": "display_data"
    },
    {
     "data": {
      "text/plain": [
       "array([291, 280, 224, 212, 203, 237, 227, 265, 229, 204])"
      ]
     },
     "metadata": {},
     "output_type": "display_data"
    },
    {
     "data": {
      "text/plain": [
       "Index(['學生1', '學生2', '學生3', '學生4', '學生5', '學生6', '學生7', '學生8', '學生9', '學生10'], dtype='object')"
      ]
     },
     "metadata": {},
     "output_type": "display_data"
    }
   ],
   "source": [
    "import numpy as np\n",
    "import pandas as pd\n",
    "\n",
    "n1 = np.random.randint(200,300,size=(10,))\n",
    "s1 = pd.Series(data=n1,index=[f'學生{i+1}' for i in range(10)])\n",
    "display(s1+100)\n",
    "display(s1.values)\n",
    "display(s1.index)"
   ]
  }
 ],
 "metadata": {
  "kernelspec": {
   "display_name": "Python 3",
   "language": "python",
   "name": "python3"
  },
  "language_info": {
   "codemirror_mode": {
    "name": "ipython",
    "version": 3
   },
   "file_extension": ".py",
   "mimetype": "text/x-python",
   "name": "python",
   "nbconvert_exporter": "python",
   "pygments_lexer": "ipython3",
   "version": "3.10.12"
  },
  "orig_nbformat": 4
 },
 "nbformat": 4,
 "nbformat_minor": 2
}
