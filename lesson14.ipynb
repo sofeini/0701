{
 "cells": [
  {
   "cell_type": "code",
   "execution_count": 8,
   "metadata": {},
   "outputs": [
    {
     "data": {
      "text/plain": [
       "學生1     391\n",
       "學生2     380\n",
       "學生3     324\n",
       "學生4     312\n",
       "學生5     303\n",
       "學生6     337\n",
       "學生7     327\n",
       "學生8     365\n",
       "學生9     329\n",
       "學生10    304\n",
       "dtype: int64"
      ]
     },
     "metadata": {},
     "output_type": "display_data"
    },
    {
     "data": {
      "text/plain": [
       "array([291, 280, 224, 212, 203, 237, 227, 265, 229, 204])"
      ]
     },
     "metadata": {},
     "output_type": "display_data"
    },
    {
     "data": {
      "text/plain": [
       "Index(['學生1', '學生2', '學生3', '學生4', '學生5', '學生6', '學生7', '學生8', '學生9', '學生10'], dtype='object')"
      ]
     },
     "metadata": {},
     "output_type": "display_data"
    }
   ],
   "source": [
    "import numpy as np\n",
    "import pandas as pd\n",
    "\n",
    "n1 = np.random.randint(200,300,size=(10,))\n",
    "s1 = pd.Series(data=n1,index=[f'學生{i+1}' for i in range(10)])\n",
    "display(s1+100)\n",
    "display(s1.values)\n",
    "display(s1.index)"
   ]
  },
  {
   "cell_type": "code",
   "execution_count": 18,
   "metadata": {},
   "outputs": [
    {
     "data": {
      "text/html": [
       "<div>\n",
       "<style scoped>\n",
       "    .dataframe tbody tr th:only-of-type {\n",
       "        vertical-align: middle;\n",
       "    }\n",
       "\n",
       "    .dataframe tbody tr th {\n",
       "        vertical-align: top;\n",
       "    }\n",
       "\n",
       "    .dataframe thead th {\n",
       "        text-align: right;\n",
       "    }\n",
       "</style>\n",
       "<table border=\"1\" class=\"dataframe\">\n",
       "  <thead>\n",
       "    <tr style=\"text-align: right;\">\n",
       "      <th></th>\n",
       "      <th>國文</th>\n",
       "      <th>英文</th>\n",
       "      <th>數學</th>\n",
       "      <th>地理</th>\n",
       "      <th>歷史</th>\n",
       "    </tr>\n",
       "  </thead>\n",
       "  <tbody>\n",
       "    <tr>\n",
       "      <th>學生1</th>\n",
       "      <td>88</td>\n",
       "      <td>69</td>\n",
       "      <td>52</td>\n",
       "      <td>68</td>\n",
       "      <td>52</td>\n",
       "    </tr>\n",
       "    <tr>\n",
       "      <th>學生2</th>\n",
       "      <td>90</td>\n",
       "      <td>80</td>\n",
       "      <td>81</td>\n",
       "      <td>51</td>\n",
       "      <td>95</td>\n",
       "    </tr>\n",
       "    <tr>\n",
       "      <th>學生3</th>\n",
       "      <td>55</td>\n",
       "      <td>62</td>\n",
       "      <td>58</td>\n",
       "      <td>94</td>\n",
       "      <td>60</td>\n",
       "    </tr>\n",
       "    <tr>\n",
       "      <th>學生4</th>\n",
       "      <td>75</td>\n",
       "      <td>64</td>\n",
       "      <td>74</td>\n",
       "      <td>61</td>\n",
       "      <td>98</td>\n",
       "    </tr>\n",
       "    <tr>\n",
       "      <th>學生5</th>\n",
       "      <td>78</td>\n",
       "      <td>67</td>\n",
       "      <td>72</td>\n",
       "      <td>79</td>\n",
       "      <td>67</td>\n",
       "    </tr>\n",
       "  </tbody>\n",
       "</table>\n",
       "</div>"
      ],
      "text/plain": [
       "     國文  英文  數學  地理  歷史\n",
       "學生1  88  69  52  68  52\n",
       "學生2  90  80  81  51  95\n",
       "學生3  55  62  58  94  60\n",
       "學生4  75  64  74  61  98\n",
       "學生5  78  67  72  79  67"
      ]
     },
     "execution_count": 18,
     "metadata": {},
     "output_type": "execute_result"
    }
   ],
   "source": [
    "import numpy as np\n",
    "import pandas as pd\n",
    "\n",
    "n2 = np.random.randint(50,100,size=(5,5))\n",
    "dataFrame = pd.DataFrame(data=n2,\n",
    "            index=['學生1','學生2','學生3','學生4','學生5'],\n",
    "            columns=['國文','英文','數學','地理','歷史']\n",
    "            )\n",
    "\n",
    "dataFrame"
   ]
  },
  {
   "cell_type": "code",
   "execution_count": 22,
   "metadata": {},
   "outputs": [
    {
     "data": {
      "text/html": [
       "<div>\n",
       "<style scoped>\n",
       "    .dataframe tbody tr th:only-of-type {\n",
       "        vertical-align: middle;\n",
       "    }\n",
       "\n",
       "    .dataframe tbody tr th {\n",
       "        vertical-align: top;\n",
       "    }\n",
       "\n",
       "    .dataframe thead th {\n",
       "        text-align: right;\n",
       "    }\n",
       "</style>\n",
       "<table border=\"1\" class=\"dataframe\">\n",
       "  <thead>\n",
       "    <tr style=\"text-align: right;\">\n",
       "      <th></th>\n",
       "      <th>國文</th>\n",
       "      <th>英文</th>\n",
       "      <th>數學</th>\n",
       "      <th>地理</th>\n",
       "      <th>歷史</th>\n",
       "      <th>總分</th>\n",
       "    </tr>\n",
       "  </thead>\n",
       "  <tbody>\n",
       "    <tr>\n",
       "      <th>學生1</th>\n",
       "      <td>85</td>\n",
       "      <td>79</td>\n",
       "      <td>99</td>\n",
       "      <td>93</td>\n",
       "      <td>65</td>\n",
       "      <td>393</td>\n",
       "    </tr>\n",
       "    <tr>\n",
       "      <th>學生2</th>\n",
       "      <td>65</td>\n",
       "      <td>80</td>\n",
       "      <td>50</td>\n",
       "      <td>51</td>\n",
       "      <td>59</td>\n",
       "      <td>313</td>\n",
       "    </tr>\n",
       "    <tr>\n",
       "      <th>學生3</th>\n",
       "      <td>97</td>\n",
       "      <td>73</td>\n",
       "      <td>55</td>\n",
       "      <td>59</td>\n",
       "      <td>90</td>\n",
       "      <td>405</td>\n",
       "    </tr>\n",
       "    <tr>\n",
       "      <th>學生4</th>\n",
       "      <td>58</td>\n",
       "      <td>99</td>\n",
       "      <td>82</td>\n",
       "      <td>98</td>\n",
       "      <td>87</td>\n",
       "      <td>413</td>\n",
       "    </tr>\n",
       "    <tr>\n",
       "      <th>學生5</th>\n",
       "      <td>63</td>\n",
       "      <td>98</td>\n",
       "      <td>63</td>\n",
       "      <td>63</td>\n",
       "      <td>66</td>\n",
       "      <td>356</td>\n",
       "    </tr>\n",
       "  </tbody>\n",
       "</table>\n",
       "</div>"
      ],
      "text/plain": [
       "     國文  英文  數學  地理  歷史   總分\n",
       "學生1  85  79  99  93  65  393\n",
       "學生2  65  80  50  51  59  313\n",
       "學生3  97  73  55  59  90  405\n",
       "學生4  58  99  82  98  87  413\n",
       "學生5  63  98  63  63  66  356"
      ]
     },
     "execution_count": 22,
     "metadata": {},
     "output_type": "execute_result"
    }
   ],
   "source": [
    "dataFrame['國文']\n",
    "dataFrame[['國文','英文']]\n",
    "total = dataFrame['國文'] + dataFrame['英文'] + dataFrame['數學'] + dataFrame['歷史'] + dataFrame['歷史'] \n",
    "dataFrame['總分'] = total\n",
    "dataFrame"
   ]
  }
 ],
 "metadata": {
  "kernelspec": {
   "display_name": "Python 3",
   "language": "python",
   "name": "python3"
  },
  "language_info": {
   "codemirror_mode": {
    "name": "ipython",
    "version": 3
   },
   "file_extension": ".py",
   "mimetype": "text/x-python",
   "name": "python",
   "nbconvert_exporter": "python",
   "pygments_lexer": "ipython3",
   "version": "3.10.12"
  },
  "orig_nbformat": 4
 },
 "nbformat": 4,
 "nbformat_minor": 2
}
