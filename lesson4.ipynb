{
 "cells": [
  {
   "cell_type": "code",
   "execution_count": 1,
   "metadata": {},
   "outputs": [
    {
     "name": "stdout",
     "output_type": "stream",
     "text": [
      "hello world\n"
     ]
    }
   ],
   "source": [
    "print('hello world')"
   ]
  },
  {
   "cell_type": "code",
   "execution_count": 1,
   "metadata": {},
   "outputs": [
    {
     "name": "stdout",
     "output_type": "stream",
     "text": [
      "直角三角形的角度為:23.578178478201835\n"
     ]
    }
   ],
   "source": [
    "import math\n",
    "n = float(input('請輸入斜邊:'))\n",
    "m = float(input('請輸入對邊:'))\n",
    "r = math.asin( m / n ) \n",
    "degree = math.degrees(r)\n",
    "print(f'直角三角形的角度為:{degree}') #字串插補\n"
   ]
  },
  {
   "cell_type": "code",
   "execution_count": 6,
   "metadata": {},
   "outputs": [
    {
     "name": "stdout",
     "output_type": "stream",
     "text": [
      "總分是:300\n"
     ]
    }
   ],
   "source": [
    "scores = int(input('請輸入分數:'))\n",
    "is_add = input('是否符合加分條件:')\n",
    "\n",
    "#單向選擇的條件式\n",
    "if is_add == 'Y':\n",
    "   scores = scores +  scores*0.05\n",
    "   if scores >300:\n",
    "      scores = 300\n",
    "\n",
    "print(f\"總分是:{scores}\")"
   ]
  },
  {
   "cell_type": "code",
   "execution_count": 13,
   "metadata": {},
   "outputs": [
    {
     "name": "stdout",
     "output_type": "stream",
     "text": [
      "優\n"
     ]
    }
   ],
   "source": [
    "#雙向選擇\n",
    "chinese = int(input(\"請輸入國文分數:\"))\n",
    "\n",
    "if chinese >= 80:\n",
    "    print(\"優\")\n",
    "else: \n",
    "    if chinese >= 60:\n",
    "        print(\"及格\")\n",
    "    else:\n",
    "        print(\"不及格\") \n"
   ]
  },
  {
   "cell_type": "code",
   "execution_count": 19,
   "metadata": {},
   "outputs": [
    {
     "name": "stdout",
     "output_type": "stream",
     "text": [
      "乙\n"
     ]
    }
   ],
   "source": [
    "score = int(input('請輸入分數:'))\n",
    "\n",
    "if score >= 90:\n",
    "    print(\"優\")\n",
    "else:\n",
    "    if score >= 80:\n",
    "        print(\"甲\")\n",
    "    else:\n",
    "        if score >= 70:\n",
    "            print(\"乙\")\n",
    "        else:\n",
    "            if score >= 60:\n",
    "                print(\"丙\")\n",
    "            else:\n",
    "                print(\"丁\")\n"
   ]
  },
  {
   "cell_type": "code",
   "execution_count": 22,
   "metadata": {},
   "outputs": [
    {
     "name": "stdout",
     "output_type": "stream",
     "text": [
      "國文沒有100分\n"
     ]
    }
   ],
   "source": [
    "chinese = 10\n",
    "if not chinese == 100: #not後面一定要是布林值\n",
    "    print(\"國文沒有100分\")\n",
    "else:\n",
    "    print('國文100分')"
   ]
  },
  {
   "cell_type": "code",
   "execution_count": 25,
   "metadata": {},
   "outputs": [
    {
     "name": "stdout",
     "output_type": "stream",
     "text": [
      "其中一個滿分\n"
     ]
    }
   ],
   "source": [
    "chinese = 100\n",
    "english = 80\n",
    "\n",
    "if chinese == 100 and english == 100 :\n",
    "    print('滿分')\n",
    "elif chinese ==100 or english == 100:\n",
    "    print('其中一個滿分')\n",
    "else:\n",
    "    print('沒有滿分')"
   ]
  },
  {
   "cell_type": "code",
   "execution_count": 38,
   "metadata": {},
   "outputs": [
    {
     "name": "stdout",
     "output_type": "stream",
     "text": [
      "0\n",
      "1\n",
      "2\n",
      "3\n",
      "4\n",
      "5\n",
      "6\n",
      "7\n",
      "8\n",
      "9\n",
      "5\n",
      "6\n",
      "7\n",
      "8\n",
      "9\n",
      "10\n",
      "11\n",
      "12\n",
      "13\n",
      "14\n",
      "15\n",
      "16\n",
      "17\n",
      "18\n",
      "19\n",
      "20\n",
      "21\n",
      "22\n",
      "23\n",
      "24\n",
      "25\n",
      "26\n",
      "27\n",
      "28\n",
      "29\n",
      "30\n",
      "31\n",
      "32\n",
      "33\n",
      "34\n",
      "35\n",
      "36\n",
      "37\n",
      "38\n",
      "39\n",
      "40\n",
      "41\n",
      "42\n",
      "43\n",
      "44\n",
      "45\n",
      "46\n",
      "47\n",
      "48\n",
      "49\n",
      "50\n",
      "51\n",
      "52\n",
      "53\n",
      "54\n",
      "55\n",
      "56\n",
      "57\n",
      "58\n",
      "59\n",
      "60\n",
      "61\n",
      "62\n",
      "63\n",
      "64\n",
      "65\n",
      "66\n",
      "67\n",
      "68\n",
      "69\n",
      "70\n",
      "71\n",
      "72\n",
      "73\n",
      "74\n",
      "75\n",
      "76\n",
      "77\n",
      "78\n",
      "79\n",
      "80\n",
      "81\n",
      "82\n",
      "83\n",
      "84\n",
      "85\n",
      "86\n",
      "87\n",
      "88\n",
      "89\n",
      "90\n",
      "91\n",
      "92\n",
      "93\n",
      "94\n",
      "95\n",
      "96\n",
      "97\n",
      "98\n",
      "99\n"
     ]
    }
   ],
   "source": [
    "# for...in 明確知道執行幾次迴圈時使用\n",
    "for i in range(10):\n",
    "    print(i)\n",
    "\n",
    "for j in range(5 , 100 , 1):\n",
    "    print(j)\n",
    "\n",
    "# while 不知道要執行幾次迴圈時使用"
   ]
  },
  {
   "cell_type": "code",
   "execution_count": 41,
   "metadata": {},
   "outputs": [
    {
     "name": "stdout",
     "output_type": "stream",
     "text": [
      "5050\n"
     ]
    }
   ],
   "source": [
    "#計算1~100的加總\n",
    "result = 0\n",
    "for i in range (1,101):\n",
    "    result = result + i\n",
    "\n",
    "print (result)"
   ]
  }
 ],
 "metadata": {
  "kernelspec": {
   "display_name": "Python 3",
   "language": "python",
   "name": "python3"
  },
  "language_info": {
   "codemirror_mode": {
    "name": "ipython",
    "version": 3
   },
   "file_extension": ".py",
   "mimetype": "text/x-python",
   "name": "python",
   "nbconvert_exporter": "python",
   "pygments_lexer": "ipython3",
   "version": "3.10.12"
  },
  "orig_nbformat": 4
 },
 "nbformat": 4,
 "nbformat_minor": 2
}
